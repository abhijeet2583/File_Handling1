{
  "nbformat": 4,
  "nbformat_minor": 0,
  "metadata": {
    "colab": {
      "provenance": []
    },
    "kernelspec": {
      "name": "python3",
      "display_name": "Python 3"
    },
    "language_info": {
      "name": "python"
    }
  },
  "cells": [
    {
      "cell_type": "markdown",
      "source": [
        "            File Handling\n",
        "\n",
        "1.What is the difference between interpreted and compiled languages?\n",
        "\n",
        "- The main difference between interpreted and compiled languages     \n",
        "  Compiled languages are translated into machine code or another low-level representationbefore runtime,\n",
        "  \n",
        "  Interpreted languages are executed line by line during runtime.\n",
        "\n",
        "2.What is exception handling in Python?\n",
        "\n",
        "- Exception handling in Python is a mechanism designed to manage and respond to runtime errors or \"exceptions\" that occur during the execution of a program. This process ensures that the program does not terminate abruptly when an unexpected event or error arises.\n",
        "\n",
        "3.What is the purpose of the finally block in exception handling?\n",
        "- The finally block in exception handling ensures that a specific block of code is always executed, regardless of whether an exception is thrown or caught within the try block. Its primary purpose is to perform necessary cleanup operations, such as releasing resources (closing files, database connections, etc.) or performing other final actions, to prevent resource leaks and ensure proper program termination.\n",
        "\n",
        "4.What is logging in Python?\n",
        "- Logging in Python refers to the process of recording events that occur during the execution of a software program. It is a crucial practice for software development, debugging, and monitoring, as it provides a structured way to track the behavior of an application.\n",
        "\n",
        "5.What is the significance of the __del__ method in Python?\n",
        "\n",
        "- The __del__ method in Python, often referred to as a \"destructor\" or \"finalizer,\" is a special method invoked by the Python interpreter when an object is about to be destroyed. Its primary significance lies in enabling cleanup operations before an object is removed from memory.\n",
        "\n",
        "  eg class ClassName:\n",
        "        def __del__(self):# cleanup code here\n",
        "         pass\n",
        "\n",
        "6.What is the difference between import and from ... import in Python?\n",
        "\n",
        "- Import:\n",
        "  This statement imports the entire module_name and makes it available as an object in the current namespace.\n",
        "  eg: To access any function, class, or variable within that module, we explicitly prefix it with the module name and a dot  module_name.function_name().\n",
        "  This approach helps prevent name clashes if different modules happen to define objects with the same name.\n",
        "    import math\n",
        "    \n",
        "    result = math.sqrt(25)\n",
        "    print(result) # Output: 5.0\n",
        "\n",
        "    From Import :\n",
        "\n",
        "    This statement imports only the specific_component  directly into the current namespace.\n",
        "    specific_component can be directly accessed without needing to prefix it with module_name.\n",
        "    This can make  code concise, especially when we need to frequently use a particular component from a module.\n",
        "\n",
        "    eg:-\n",
        "    from math import sqrt\n",
        "    print(sqrt(16))\n",
        "\n",
        "7.How can you handle multiple exceptions in Python?\n",
        "-       \n",
        "        Handling multiple exceptions with a single except block\n",
        "        \n",
        "        try:\n",
        "        # Code that might raise exceptions\n",
        "        result = 10 / 0\n",
        "        except (ZeroDivisionError, ValueError) as e:\n",
        "        print(f\"An error occurred: {e}\")\n",
        "        # Common handling for both ZeroDivisionError and ValueError\n",
        "\n",
        "        if different handling logic is required for different exception types, separate except clauses can be used for each specific exception. The first except block that matches the raised exception will be executed.\n",
        "\n",
        "        try:\n",
        "        # Code that might raise exceptions\n",
        "        value = int(\"abc\")\n",
        "        except ValueError as ve:\n",
        "        print(f\"Invalid input: {ve}\")\n",
        "        # Specific handling for ValueError\n",
        "        except ZeroDivisionError as zde:\n",
        "        print(f\"Cannot divide by zero: {zde}\")\n",
        "        # Specific handling for ZeroDivisionError\n",
        "        except Exception as ex:\n",
        "        print(f\"An unexpected error occurred: {ex}\")\n",
        "        # Catch-all for any other exceptions.\n",
        "\n",
        "8.What is the purpose of the with statement when handling files in Python?\n",
        "-   \n",
        "    statement reads and prints the file's content while automatically closing it, ensuring efficient resource management without a finally block.\n",
        "    \n",
        "    with open(\"example.txt\", \"r\") as file:\n",
        "    content = file.read()\n",
        "    print(content)  # File closes automatically\n",
        "\n",
        "9.What is the difference between multithreading and multiprocessing?\n",
        "- Multithreading:\n",
        "\n",
        "  a)since it happens on one processor thread shared same memory space\n",
        "    and resources within a process.\n",
        "  b)concurrent in process and follow GIL\n",
        "\n",
        "  c) input/output process like downloading files. best for task that\n",
        "     are part of same application and need to share data or resources.\n",
        "\n",
        "  Multiprocessing:-\n",
        "\n",
        "  a) Multiple core /processor are there.\n",
        "  b) has its own memory space and resources which are isolated from other\n",
        "     other process.\n",
        "\n",
        "  c) Truely parallel on multiple CPU cores\n",
        "\n",
        "  d) Independent from GIL\n",
        "  e) suitable for task that are independent and can easily run in\n",
        "     isolation . Eg server handling , some computation.\n",
        "\n",
        "10.What are the advantages of using logging in a program?\n",
        "- Logging is a means of tracking events that happen when some software runs.\n",
        "  Logging is important for software developing, debugging, and running. If you don't have any logging record and your program crashes, there are very few chances that you detect the cause of the problem. And if you detect the cause, it will consume a lot of time. With logging, you can leave a trail of breadcrumbs so that if something goes wrong, we can determine the cause of the problem.\n",
        "\n",
        "  Advantage:\n",
        "  a)Enhanced Debugging and Troubleshooting\n",
        "  b)Performance Monitoring and Optimization\n",
        "  c)Security and Compliance\n",
        "  d)Improved Collaboration and Communication\n",
        "  \n",
        "11.What is memory management in Python?\n",
        "- Python Memory Allocation\n",
        "  Python Memory Manager is responsible to manage memory allocation and deallocation to various processes that are under execution in python.\n",
        "\n",
        "  python process has two types of memory allocated to it\n",
        "\n",
        "  Static Memory\n",
        "  Dynamic Memory\n",
        "\n",
        "  Static Memory Allocation:\n",
        "  Whenever a new function or class is declared it is very common to have some variable declaration inside them, these declarations are associated with the function itself and do not change in the runtime. They occupy a fixed memory size. Hence these are stored in the stack area.\n",
        "\n",
        "   def function_name():\n",
        "    var1 = 1            \n",
        "    var2 = []\n",
        "    var3 = \"abc\"\n",
        "    # all these variables are\n",
        "    # stored in the function block\n",
        "    # and eventually in stack memory\n",
        "\n",
        "    Dynamic Memory Allocation:\n",
        "\n",
        "    The second type of memory available in a program is called heap memory. The heap memory is separate from the static stack memory, as this memory can be dynamically requested(allocated) and released(deallocated) in runtime. The memory size required for such variables cannot be determined beforehand, and hence it is called dynamic memory.\n",
        "\n",
        "    number = int(input(\"Enter a number\"))\n",
        "    array = [0] * number\n",
        "    # the variable array creates an 'array'\n",
        "    # of length provided by the user in runtime\n",
        "    # hence the variable 'array' is stored in heap memory\n",
        "\n",
        "\n",
        "12.What are the basic steps involved in exception handling in Python?\n",
        "- Exception handling in Python is done using the try, except, else and finally\n",
        "  blocks.\n",
        "\n",
        "  try:\n",
        "      # Code that might raise an exception\n",
        "  except SomeException:\n",
        "      # Code to handle the exception\n",
        "  else:\n",
        "     # Code to run if no exception occurs\n",
        "  finally:\n",
        "    # Code to run regardless of whether an exception occurs\n",
        "\n",
        "    try Block: try block lets us test a block of code for errors. Python will \"try\" to execute the code in this block. If an exception occurs, execution will immediately jump to the except block.\n",
        "    \n",
        "    except Block: except block enables us to handle the error or exception. If the code inside the try block throws an error, Python jumps to the except block and executes it. We can handle specific exceptions or use a general except to catch all exceptions.\n",
        "    \n",
        "    else Block: else block is optional and if included, must follow all except blocks. The else block runs only if no exceptions are raised in the try block. This is useful for code that should execute if the try block succeeds.\n",
        "    \n",
        "    finally Block: finally block always runs, regardless of whether an exception occurred or not. It is typically used for cleanup operations (closing files, releasing resources).\n",
        "\n",
        "13.Why is memory management important in Python?\n",
        "    - Memory management is important in Python for several reasons\n",
        "    \n",
        "    Efficiency and Performance:\n",
        "    Efficient memory management ensures that programs utilize system resources effectively. Poor memory management can lead to excessive memory consumption, causing programs to slow down or even crash, especially when dealing with large datasets or complex applications.\n",
        "    \n",
        "    Preventing Memory Leaks:\n",
        "    Understanding how Python manages memory helps in identifying and preventing memory leaks. A memory leak occurs when a program continuously allocates memory but fails to release it when it's no longer needed, leading to a gradual increase in memory usage and potential performance degradation over time.\n",
        "    \n",
        "    Writing Optimized Code:\n",
        "    Knowledge of Python's memory model, including concepts like reference counting, garbage collection, and object allocation, enables developers to write more memory-efficient code. This involves choosing appropriate data structures, understanding object lifetimes, and minimizing unnecessary object creation.\n",
        "    \n",
        "    Debugging and Troubleshooting:\n",
        "    When memory-related issues arise, such as high memory usage or unexpected crashes, an understanding of Python's memory management mechanisms is crucial for effective debugging and troubleshooting. It allows developers to pinpoint the source of memory problems and implement solutions.\n",
        "    \n",
        "    Handling Large Datasets:\n",
        "    In applications that process large volumes of data, such as data science or scientific computing, efficient memory management is paramount. Techniques like using generators for lazy evaluation or choosing memory-efficient data structures become critical to avoid exceeding available memory.\n",
        "    \n",
        "    Resource Optimization:\n",
        "    While Python automatically handles memory, understanding its internal workings allows for better resource optimization. This includes recognizing when the garbage collector might not be able to free memory as quickly as desired and implementing strategies to mitigate such situations.\n",
        "\n",
        "14.What is the role of try and except in exception handling?\n",
        "- Role of Try and Except:\n",
        "\n",
        "  try : Code that might cause an exception.\n",
        "  \n",
        "  except : Code that handles the exception.\n",
        "  \n",
        " eg-\n",
        "  try:\n",
        "    print(x)\n",
        "  except:\n",
        "    print(\"An exception occurred\")\n",
        "\n",
        "\n",
        "\n",
        "\n",
        "\n",
        "\n"
      ],
      "metadata": {
        "id": "WQw_nQRB-LfB"
      }
    },
    {
      "cell_type": "code",
      "source": [
        "try:\n",
        "  print(x)\n",
        "except Exception as e:\n",
        "  print(f\"An exception occurred: {e}\")"
      ],
      "metadata": {
        "id": "xzpq9TbzA4t5"
      },
      "execution_count": null,
      "outputs": []
    },
    {
      "cell_type": "markdown",
      "source": [
        "15.How does Python's garbage collection system work?\n",
        "- Garbage Collection in Python is an automatic process that handles memory    \n",
        "  allocation and deallocation, ensuring efficient use of memory.\n",
        "\n",
        "  Python  manages memory through two primary strategies:\n",
        "\n",
        "  Reference counting\n",
        "  \n",
        "\n",
        "\n",
        "\n"
      ],
      "metadata": {
        "id": "0tGyyk1wBigO"
      }
    },
    {
      "cell_type": "markdown",
      "source": [
        "\n",
        "Garbage collection:\n",
        "Garbage collection is a memory management technique used in programming languages to automatically reclaim memory that is no longer accessible or in use by the application. To handle such circular references, Python uses a Garbage Collector (GC) from the built-in gc module. This collector is able to detect and clean up objects involved in reference cycles."
      ],
      "metadata": {
        "id": "PHm19p_PDy0F"
      }
    },
    {
      "cell_type": "code",
      "source": [
        "import sys #Example for Reference Counting\n",
        "\n",
        "x = [1, 2, 3]\n",
        "print(sys.getrefcount(x))\n",
        "\n",
        "y = x\n",
        "print(sys.getrefcount(x))\n",
        "\n",
        "y = None\n",
        "print(sys.getrefcount(x))"
      ],
      "metadata": {
        "id": "b5eB2HMqA5hk"
      },
      "execution_count": null,
      "outputs": []
    },
    {
      "cell_type": "code",
      "source": [
        "import gc\n",
        "print(gc.get_threshold())"
      ],
      "metadata": {
        "id": "8UnWglfwDSdT"
      },
      "execution_count": null,
      "outputs": []
    },
    {
      "cell_type": "code",
      "source": [
        "import gc\n",
        "\n",
        "a = [1, 2, 3]\n",
        "b = {\"a\": 1, \"b\": 2}\n",
        "c = \"Hello, world!\"\n",
        "\n",
        "del a,b,c\n",
        "gc.collect()"
      ],
      "metadata": {
        "id": "vg7grjGhF13l"
      },
      "execution_count": null,
      "outputs": []
    },
    {
      "cell_type": "markdown",
      "source": [
        "16.What is the purpose of the else block in exception handling?\n",
        "- The main purpose of the else block is to separate the code that might fail\n",
        "  and needs exception handling from the code that should only run if everything goes well in the try block. This separation makes the code more readable and maintainable. It also allows for better organization of your program's logic, as the code within the else block is specifically tied to the successful completion of the try block.\n",
        "\n",
        "  "
      ],
      "metadata": {
        "id": "sHLEN1LHGBTm"
      }
    },
    {
      "cell_type": "code",
      "source": [
        "try:\n",
        "    x = int(input(\"Enter a number: \"))\n",
        "    result = 10 / x\n",
        "except ValueError:\n",
        "    print(\"Invalid input. Please enter a number.\")\n",
        "except ZeroDivisionError:\n",
        "    print(\"Cannot divide by zero.\")\n",
        "else:\n",
        "    print(\"Result:\", result) # This will only print if no exception is raised"
      ],
      "metadata": {
        "id": "Ld_Y9l4tGhWo"
      },
      "execution_count": null,
      "outputs": []
    },
    {
      "cell_type": "markdown",
      "source": [
        "17.What are the common logging levels in Python?\n",
        "- Python Logging Levels:-\n",
        "  \n",
        "  Debug: These are used to give Detailed information, typically of interest only when diagnosing problems.\n",
        "  \n",
        "  Info: These are used to confirm that things are working as expected\n",
        "  Warning: These are used as an indication that something unexpected happened, or is indicative of some problem in the near future\n",
        "  \n",
        "  Error: This tells that due to a more serious problem, the software has not been able to perform some function\n",
        "  \n",
        "  Critical: This tells serious error, indicating that the program itself may be unable to continue running"
      ],
      "metadata": {
        "id": "zlsn3FSzGqdt"
      }
    },
    {
      "cell_type": "markdown",
      "source": [
        "18.What is the difference between os.fork() and multiprocessing in Python?\n",
        "\n",
        "- os.fork() provides direct access to a fundamental operating system primitive for process creation but requires careful handling and is not portable.\n",
        "\n",
        "multiprocessing offers a more robust, portable, and user-friendly framework for process-based parallelism in Python, abstracting away the underlying system calls and providing tools for inter-process communication and synchronization.\n",
        "\n",
        "19.What is the importance of closing a file in Python?\n",
        "- An object (fp) in Python is a file pointer or file object that is used to\n",
        "  interact with files. It is created when you open a file using functions like open(). The fp object provides methods for reading, writing, and manipulating the file content. Here is the general syntax for working with file objects in Python:\n",
        "\n",
        "  Syntax\n",
        "\n",
        "    # Opening a file\n",
        "    fp = open('filename.txt', 'mode')\n",
        "    # Performing operations on the file\n",
        "    # Closing the file\n",
        "    fp.close()\n",
        "\n",
        "20.What is the difference between file.read() and file.readline() in Python?\n",
        "- file.read(size=-1):\n",
        "  \n",
        "  Reads the entire content of the file as a single string if no size argument is provided or if size is -1.\n",
        "  If a size argument (an integer) is provided, it reads up to size bytes (or characters in text mode) from the file.\n",
        "  Returns an empty string (\"\") if the end of the file has been reached.\n",
        "\n",
        "  file.readline(size=-1):\n",
        "  Reads a single line from the file, including the newline character (\\n) if present, and returns it as a string.\n",
        "  If a size argument (an integer) is provided, it reads at most size bytes (or characters) from the line.\n",
        "  Returns an empty string (\"\") if the end.\n",
        "\n",
        "21.What is the logging module in Python used for?\n",
        "- Python logging is a module that allows you to track events that occur while   \n",
        "  your program is running. You can use logging to record information about errors, warnings, and other events that occur during program execution. And logging is a useful tool for debugging, troubleshooting, and monitoring your program.\n",
        "\n",
        "  Python logging levels are used to indicate the severity of a message. There are five logging levels in Python:\n",
        "\n",
        "  DEBUG,\n",
        "  INFO,\n",
        "  WARNING,\n",
        "  ERROR,\n",
        "  CRITICAL.   \n",
        "\n",
        "22.What is the os module in Python used for in file handling?\n",
        "- The OS module in Python provides functions for interacting with the operating\n",
        "  system. OS comes under Python's standard utility modules. This module provides a portable way of using operating system-dependent functionality.\n",
        "\n",
        "  The *os* and *os.path* modules include many functions to interact with the file system.\n",
        "\n",
        "  "
      ],
      "metadata": {
        "id": "qlfDRKJJHlGt"
      }
    },
    {
      "cell_type": "code",
      "source": [
        "import os\n",
        "cwd = os.getcwd()\n",
        "print(\"Current working directory:\", cwd)"
      ],
      "metadata": {
        "id": "lsdUX8GpLrjq"
      },
      "execution_count": null,
      "outputs": []
    },
    {
      "cell_type": "markdown",
      "source": [
        "23.What are the challenges associated with memory management in Python?\n",
        "-\n",
        "  High Memory Consumption:\n",
        "\n",
        "  a)Memory Leaks due to Circular References\n",
        "\n",
        "  b)Performance Overhead of Garbage Collection\n",
        "  \n",
        "  c)Memory Fragmentation\n",
        "\n",
        "  d)Challenges with Large Data Structures\n",
        "\n",
        "24.How do you raise an exception manually in Python?\n",
        "- exceptions are raised manually using the raise keyword.\n",
        "\n",
        "  Syntax:\n",
        "  raise ExceptionType(\"Error message\")\n",
        "\n",
        "      # Raising a ValueError\n",
        "    raise ValueError(\"Input value is not valid.\")\n",
        "\n",
        "  a)Provide an Error Message\n",
        "\n",
        "        # Raising an exception with a custom message\n",
        "    age = -5\n",
        "    if age < 0:\n",
        "        raise Exception(\"Age cannot be a negative number.\")\n",
        "\n",
        "  b) Raise Custom Exceptions:\n",
        "\n",
        "        class InsufficientFundsError(Exception):\n",
        "        \"\"\"Custom exception for insufficient funds during a transaction.\"\"\"\n",
        "        pass\n",
        "\n",
        "    balance = 100\n",
        "    withdrawal_amount = 150\n",
        "\n",
        "    if withdrawal_amount > balance:\n",
        "        raise InsufficientFundsError(\"Cannot withdraw more than available balance.\")"
      ],
      "metadata": {
        "id": "4l-8ukR6LxTH"
      }
    },
    {
      "cell_type": "code",
      "source": [
        "class InsufficientFundsError(Exception):\n",
        "    \"\"\"Custom exception for insufficient funds during a transaction.\"\"\"\n",
        "    pass\n",
        "\n",
        "balance = 100\n",
        "withdrawal_amount = 150\n",
        "\n",
        "if withdrawal_amount > balance:\n",
        "    raise InsufficientFundsError(\"Cannot withdraw more than available balance.\")"
      ],
      "metadata": {
        "id": "DT5R_MEaOk8r"
      },
      "execution_count": null,
      "outputs": []
    },
    {
      "cell_type": "markdown",
      "source": [
        "25.Why is it important to use multithreading in certain applications?\n",
        "- Resource Sharing\n",
        "  All the threads of a process share its resources such as memory, data, files etc. A single application can have different threads within the same address space using resource sharing.\n",
        "\n",
        " Responsiveness\n",
        "  Program responsiveness allows a program to run even if part of it is blocked using multithreading. This can also be done if the process is performing a lengthy operation. For example - A web browser with multithreading can use one thread for user contact and another for image loading at the same time.\n",
        "\n",
        " Utilization of Multiprocessor Architecture\n",
        "  In a multiprocessor architecture, each thread can run on a different processor in parallel using multithreading. This increases concurrency of the system. This is in direct contrast to a single processor system, where only one process or thread can run on a processor at a time.\n",
        "\n",
        " Economy\n",
        "  It is more economical to use threads as they share the process resources. Comparatively, it is more expensive and time-consuming to create processes as they require more memory and resources. The overhead for process creation and management is much higher than thread creation and management."
      ],
      "metadata": {
        "id": "KSEMFcbSPAIT"
      }
    },
    {
      "cell_type": "code",
      "source": [
        "# prompt: How can you open a file for writing in Python and write a string to it?\n",
        "\n",
        "# To open a file for writing in Python, you use the open() function with the mode 'w'.\n",
        "# If the file exists, its contents will be overwritten. If the file does not exist, a new file will be created.\n",
        "# The 'with' statement is recommended as it ensures the file is automatically closed even if errors occur.\n",
        "\n",
        "file_path = 'my_output_file.txt'\n",
        "string_to_write = \"This is the string I want to write to the file.\"\n",
        "\n",
        "try:\n",
        "  with open(file_path, 'w') as f:\n",
        "    f.write(string_to_write)\n",
        "  print(f\"Successfully wrote to {file_path}\")\n",
        "except IOError as e:\n",
        "  print(f\"An error occurred while writing to the file: {e}\")\n",
        "\n",
        "# To verify the content, you can read the file back.\n",
        "try:\n",
        "  with open(file_path, 'r') as f:\n",
        "    content = f.read()\n",
        "    print(f\"Content of {file_path}:\\n{content}\")\n",
        "except FileNotFoundError:\n",
        "  print(f\"Error: {file_path} not found.\")\n",
        "except IOError as e:\n",
        "  print(f\"An error occurred while reading the file: {e}\")\n"
      ],
      "metadata": {
        "id": "8kJfuAAFvItb"
      },
      "execution_count": null,
      "outputs": []
    },
    {
      "cell_type": "markdown",
      "source": [
        "##          **Practical Questions**"
      ],
      "metadata": {
        "id": "smybZ7epuCZ-"
      }
    },
    {
      "cell_type": "code",
      "source": [
        "#1. How can you open a file for writing in Python and write a string to it?\n",
        "file=open(\"file.txt\",\"w\")\n",
        "file.write(\"this is my first line\")\n",
        "file.close() # Close the file after writing\n",
        "\n",
        "# Now, open the file again in read mode to read its content\n",
        "file=open(\"file.txt\",\"r\")\n",
        "print(file.read()) # Read and print the content\n",
        "file.close() # Close the file after reading\n",
        "\n"
      ],
      "metadata": {
        "id": "CUtLqxyCuNUp"
      },
      "execution_count": null,
      "outputs": []
    },
    {
      "cell_type": "code",
      "source": [
        "#2.Write a Python program to read the contents of a file and print each line.\n",
        "file=open(\"file.txt\",\"r\")\n",
        "print(file.read())\n",
        "file.close()\n",
        "\n",
        "\n",
        "\n"
      ],
      "metadata": {
        "id": "N39_j0xHwZFz"
      },
      "execution_count": null,
      "outputs": []
    },
    {
      "cell_type": "code",
      "source": [
        "'''3.How would you handle a case where the file doesn't exist while\n",
        "trying to open it for reading'''\n",
        "\n",
        "try:\n",
        "\n",
        "  file=open(\"file.txt\",\"r\")\n",
        "\n",
        "except Exception as e:\n",
        "  print(f\"An error occurred: {e}\")\n",
        "else:\n",
        "  print(file.read())\n",
        "  file.close()"
      ],
      "metadata": {
        "id": "NHRABz6wypwg"
      },
      "execution_count": null,
      "outputs": []
    },
    {
      "cell_type": "code",
      "source": [
        "\"\"\"4.Write a Python script that reads from one file and writes\n",
        "its content to another file\"\"\"\n",
        "source_file = 'source.txt'\n",
        "destination_file = 'destination.txt'\n",
        "\n",
        "try:\n",
        "  # Create a dummy source file for demonstration\n",
        "  with open(source_file, 'w') as f:\n",
        "    f.write(\"This is the content of the source file.\\n\")\n",
        "    f.write(\"This is the second line.\")\n",
        "  print(f\"Created dummy source file: {source_file}\")\n",
        "\n",
        "  # Open the source file for reading\n",
        "  with open(source_file, 'r') as infile:\n",
        "    # Open the destination file for writing\n",
        "    with open(destination_file, 'w') as outfile:\n",
        "      # Read content from the source file line by line and write to the destination file\n",
        "      for line in infile:\n",
        "        outfile.write(line)\n",
        "\n",
        "  # Verify the content of the destination file\n",
        "  print(f\"\\nContent of {destination_file}:\")\n",
        "  with open(destination_file, 'r') as outfile:\n",
        "    print(outfile.read())\n",
        "\n",
        "except FileNotFoundError:\n",
        "  print(f\"Error: One of the files not found.\")\n",
        "except IOError as e:\n",
        "  print(f\"An error occurred during file operation: {e}\")"
      ],
      "metadata": {
        "id": "_ipVzix6zaYT"
      },
      "execution_count": null,
      "outputs": []
    },
    {
      "cell_type": "code",
      "source": [
        "#5. How would you catch and handle division by zero error in Python?\n",
        "\n",
        "try:\n",
        "  10/0\n",
        "except ZeroDivisionError as e:\n",
        "  print(f\"An error occurred: {e}\")\n"
      ],
      "metadata": {
        "id": "aooairt30wWL"
      },
      "execution_count": null,
      "outputs": []
    },
    {
      "cell_type": "code",
      "source": [
        "'''6.Write a Python program that logs an error message to a log\n",
        "file when a division by zero exception occurs'''\n",
        "\n",
        "import logging\n",
        "# Configure logging\n",
        "logging.basicConfig(filename='error.log', level=logging.ERROR,\n",
        "                    format='%(asctime)s - %(levelname)s - %(message)s')\n",
        "\n",
        "def divide_numbers(a, b):\n",
        "  \"\"\"Divides two numbers and logs an error if division by zero occurs.\"\"\"\n",
        "  try:\n",
        "    result = a / b\n",
        "    return result\n",
        "  except ZeroDivisionError:\n",
        "    error_message = \"Division by zero error occurred.\"\n",
        "    logging.error(error_message)\n",
        "    return None\n",
        "\n",
        "# Example usage:\n",
        "num1 = 10\n",
        "num2 = 0\n",
        "\n",
        "division_result = divide_numbers(num1, num2)\n",
        "\n",
        "if division_result is None:\n",
        "  print(\"Division failed due to an error. Check error.log for details.\")\n",
        "else:\n",
        "  print(f\"Result of division: {division_result}\")\n",
        "\n",
        "num3 = 20\n",
        "num4 = 5\n",
        "division_result_success = divide_numbers(num3, num4)\n",
        "if division_result_success is not None:\n",
        "    print(f\"Result of successful division: {division_result_success}\")"
      ],
      "metadata": {
        "id": "rA-Ii8ToBU27",
        "colab": {
          "base_uri": "https://localhost:8080/"
        },
        "outputId": "0c66690c-aced-4ff7-f86d-10f4f85de203"
      },
      "execution_count": 2,
      "outputs": [
        {
          "output_type": "stream",
          "name": "stderr",
          "text": [
            "ERROR:root:Division by zero error occurred.\n"
          ]
        },
        {
          "output_type": "stream",
          "name": "stdout",
          "text": [
            "Division failed due to an error. Check error.log for details.\n",
            "Result of successful division: 4.0\n"
          ]
        }
      ]
    },
    {
      "cell_type": "code",
      "source": [
        "'''7.How do you log information at different levels (INFO, ERROR, WARNING) in Python using the logging module?'''\n",
        "import logging\n",
        "\n",
        "# Configure the basic logging setup\n",
        "logging.basicConfig(level=logging.INFO, format='%(asctime)s - %(levelname)s - %(message)s')\n",
        "\n",
        "# Create a logger instance\n",
        "logger = logging.getLogger(__name__)\n",
        "\n",
        "# Log messages at different levels\n",
        "logger.info(\"Application started successfully.\")\n",
        "logger.warning(\"Configuration file not found, using default settings.\")\n",
        "try:\n",
        "    result = 10 / 0\n",
        "except ZeroDivisionError:\n",
        "    logger.error(\"An error occurred: Division by zero.\", exc_info=True) # exc_info=True logs traceback"
      ],
      "metadata": {
        "id": "xxhxFvm-C1_1",
        "colab": {
          "base_uri": "https://localhost:8080/"
        },
        "outputId": "48f488a3-fba0-4879-d869-a68aaee9c567"
      },
      "execution_count": 3,
      "outputs": [
        {
          "output_type": "stream",
          "name": "stderr",
          "text": [
            "WARNING:__main__:Configuration file not found, using default settings.\n",
            "ERROR:__main__:An error occurred: Division by zero.\n",
            "Traceback (most recent call last):\n",
            "  File \"/tmp/ipython-input-3-2434927868.py\", line 14, in <cell line: 0>\n",
            "    result = 10 / 0\n",
            "             ~~~^~~\n",
            "ZeroDivisionError: division by zero\n"
          ]
        }
      ]
    },
    {
      "cell_type": "code",
      "source": [
        "'''8.Write a program to handle a file opening error using exception handling'''\n",
        "def open_and_read_file(filename):\n",
        "\n",
        "    try:\n",
        "        # Attempt to open the file in read mode ('r')\n",
        "        with open(filename, 'r') as file:\n",
        "            content = file.read()\n",
        "            print(f\"File '{filename}' opened successfully. Content:\\n{content}\")\n",
        "    except FileNotFoundError:\n",
        "        print(f\"Error: The file '{filename}' was not found.\")\n",
        "    except PermissionError:\n",
        "        print(f\"Error: Permission denied to access the file '{filename}'.\")\n",
        "    except Exception as e:\n",
        "        # Catch any other unexpected exceptions\n",
        "        print(f\"An unexpected error occurred: {e}\")\n",
        "    finally:\n",
        "        print(\"File operation attempt completed.\")\n",
        "\n",
        "# Example usage:\n",
        "# Case 1: File exists and is accessible\n",
        "open_and_read_file(\"example.txt\") # Assuming 'example.txt' exists in the same directory\n",
        "\n",
        "# Case 2: File does not exist\n",
        "open_and_read_file(\"non_existent_file.txt\")\n",
        "\n"
      ],
      "metadata": {
        "colab": {
          "base_uri": "https://localhost:8080/"
        },
        "id": "IHxIZel4FS-P",
        "outputId": "8935765c-993d-4f7f-8720-05a740b67aa6"
      },
      "execution_count": 6,
      "outputs": [
        {
          "output_type": "stream",
          "name": "stdout",
          "text": [
            "Error: The file 'example.txt' was not found.\n",
            "File operation attempt completed.\n",
            "Error: The file 'non_existent_file.txt' was not found.\n",
            "File operation attempt completed.\n"
          ]
        }
      ]
    },
    {
      "cell_type": "code",
      "source": [
        "'''9.How can you read a file line by line and store its content in a list in Python?'''\n",
        "open_file=open(\"file.txt\",\"r\")\n",
        "lines=open_file.readlines()\n",
        "print(lines)\n",
        "open_file.close()"
      ],
      "metadata": {
        "colab": {
          "base_uri": "https://localhost:8080/"
        },
        "id": "T3v5gNkXGeHn",
        "outputId": "963b3c94-b9a4-4614-a06b-3fe80db6e4bd"
      },
      "execution_count": 2,
      "outputs": [
        {
          "output_type": "stream",
          "name": "stdout",
          "text": [
            "['\\n', 'Hi my name is Abhijeet and I am a Handsome person\\n', 'I like to stay cool\\n', 'What about you\\n']\n"
          ]
        }
      ]
    },
    {
      "cell_type": "code",
      "source": [
        "\"\"\"10.How can you append data to an existing file in Python?\"\"\"\n",
        "file_path_append = 'file.txt'\n",
        "data_to_append = \"\\nThis line is appended to the file.\"\n",
        "\n",
        "try:\n",
        "  with open(file_path_append, 'a') as f:\n",
        "    f.write(data_to_append)\n",
        "  print(f\"Successfully appended to {file_path_append}\")\n",
        "except IOError as e:\n",
        "  print(f\"An error occurred while appending to the file: {e}\")\n",
        "\n",
        "# To verify the content after appending, you can read the file back.\n",
        "try:\n",
        "  with open(file_path_append, 'r') as f:\n",
        "    content_after_append = f.read()\n",
        "    print(f\"\\nContent of {file_path_append} after appending:\\n{content_after_append}\")\n",
        "except FileNotFoundError:\n",
        "  print(f\"Error: {file_path_append} not found.\")\n",
        "except IOError as e:\n",
        "  print(f\"An error occurred while reading the file: {e}\")"
      ],
      "metadata": {
        "colab": {
          "base_uri": "https://localhost:8080/"
        },
        "id": "drTqlCVtfvam",
        "outputId": "cc04b794-fa49-4b6c-e087-c94ed9d5783f"
      },
      "execution_count": 8,
      "outputs": [
        {
          "output_type": "stream",
          "name": "stdout",
          "text": [
            "Successfully appended to file.txt\n",
            "\n",
            "Content of file.txt after appending:\n",
            "\n",
            "Hi my name is Abhijeet and I am a Handsome person\n",
            "I like to stay cool\n",
            "What about you\n",
            "this is my first line\n",
            "This line is appended to the file.\n"
          ]
        }
      ]
    },
    {
      "cell_type": "code",
      "source": [
        "'''11.Write a Python program that uses a try-except block to handle an error when attempting to access a\n",
        "dictionary key that doesn't exist'''\n",
        "my_dict = {'a': 1, 'b': 2, 'c': 3}\n",
        "\n",
        "try:\n",
        "  value = my_dict['d']\n",
        "except KeyError:\n",
        "  print(\"Error: Key 'd' does not exist in the dictionary.\")\n"
      ],
      "metadata": {
        "colab": {
          "base_uri": "https://localhost:8080/"
        },
        "id": "QBznyMVUg0CF",
        "outputId": "554fabe4-03ae-491e-89f4-a296da48f828"
      },
      "execution_count": 9,
      "outputs": [
        {
          "output_type": "stream",
          "name": "stdout",
          "text": [
            "Error: Key 'd' does not exist in the dictionary.\n"
          ]
        }
      ]
    },
    {
      "cell_type": "code",
      "source": [
        "'''12.Write a program that demonstrates using multiple except blocks to\n",
        "handle different types of exceptions'''\n",
        "def perform_calculation():\n",
        "    try:\n",
        "        # Prompt the user to enter a number\n",
        "        user_input = input(\"Enter an integer: \")\n",
        "\n",
        "        # Attempt to convert the input to an integer\n",
        "        number = int(user_input)\n",
        "\n",
        "        # Attempt to perform a division\n",
        "        result = 100 / number\n",
        "\n",
        "        print(f\"Calculation successful! Result: {result}\")\n",
        "\n",
        "    except ValueError:\n",
        "        # This block executes if int() conversion fails (e.g., non-numeric input)\n",
        "        print(\"Error: Invalid input. Please enter a valid integer.\")\n",
        "    except ZeroDivisionError:\n",
        "        # This block executes if division by zero occurs\n",
        "        print(\"Error: Cannot divide by zero. Please enter a non-zero number.\")\n",
        "    except Exception as e:\n",
        "        # This is a general exception handler for any other unexpected errors\n",
        "        print(f\"An unexpected error occurred: {e}\")\n",
        "\n",
        "# Call the function to demonstrate exception handling\n",
        "perform_calculation()"
      ],
      "metadata": {
        "colab": {
          "base_uri": "https://localhost:8080/"
        },
        "id": "L9T9RJr-iIHv",
        "outputId": "311512f1-e5c4-44b5-e04b-b071d285833d"
      },
      "execution_count": 12,
      "outputs": [
        {
          "output_type": "stream",
          "name": "stdout",
          "text": [
            "Enter an integer: 6\n",
            "Calculation successful! Result: 16.666666666666668\n"
          ]
        }
      ]
    },
    {
      "cell_type": "code",
      "source": [
        "'''13.How would you check if a file exists before attempting to read it in Python?'''\n",
        "import os\n",
        "\n",
        "file_path = \"file.txt\"\n",
        "\n",
        "if os.path.exists(file_path):\n",
        "    with open(file_path, \"r\") as file:\n",
        "        content = file.read()\n",
        "        print(\"File content:\", content)\n",
        "else:\n",
        "    print(f\"Error: The file '{file_path}' does not exist.\")"
      ],
      "metadata": {
        "colab": {
          "base_uri": "https://localhost:8080/"
        },
        "id": "QeKqNiipjZe2",
        "outputId": "baf79a38-eb26-4131-a728-2f4c43afdd8c"
      },
      "execution_count": 15,
      "outputs": [
        {
          "output_type": "stream",
          "name": "stdout",
          "text": [
            "File content: \n",
            "Hi my name is Abhijeet and I am a Handsome person\n",
            "I like to stay cool\n",
            "What about you\n",
            "this is my first line\n",
            "This line is appended to the file.\n"
          ]
        }
      ]
    },
    {
      "cell_type": "code",
      "source": [
        "'''14.Write a program that uses the logging module to log both informational and error messages'''\n",
        "import logging\n",
        "\n",
        "def setup_logger():\n",
        "    \"\"\"\n",
        "    Configures and returns a logger instance for the application.\n",
        "    \"\"\"\n",
        "    # Create a custom logger\n",
        "    logger = logging.getLogger('my_application_logger')\n",
        "    logger.setLevel(logging.INFO)  # Set the base logging level to INFO\n",
        "\n",
        "    # Create a file handler for informational messages\n",
        "    info_handler = logging.FileHandler('application_info.log')\n",
        "    info_handler.setLevel(logging.INFO)\n",
        "    info_formatter = logging.Formatter('%(asctime)s - %(levelname)s - %(message)s')\n",
        "    info_handler.setFormatter(info_formatter)\n",
        "    logger.addHandler(info_handler)\n",
        "\n",
        "    # Create a file handler for error messages\n",
        "    error_handler = logging.FileHandler('application_errors.log')\n",
        "    error_handler.setLevel(logging.ERROR)\n",
        "    error_formatter = logging.Formatter('%(asctime)s - %(name)s - %(levelname)s - %(message)s')\n",
        "    error_handler.setFormatter(error_formatter)\n",
        "    logger.addHandler(error_handler)\n",
        "\n",
        "    return logger\n",
        "\n",
        "def main():\n",
        "    \"\"\"\n",
        "    Main function to demonstrate logging.\n",
        "    \"\"\"\n",
        "    app_logger = setup_logger()\n",
        "\n",
        "    app_logger.info(\"Application started successfully.\")\n",
        "    app_logger.info(\"Processing data from source X.\")\n",
        "\n",
        "    try:\n",
        "        result = 10 / 0  # This will cause a ZeroDivisionError\n",
        "    except ZeroDivisionError as e:\n",
        "        app_logger.error(f\"An error occurred during calculation: {e}\", exc_info=True)\n",
        "\n",
        "    app_logger.info(\"Data processing complete.\")\n",
        "    app_logger.warning(\"Potential issue detected in data consistency.\")\n",
        "\n",
        "if __name__ == \"__main__\":\n",
        "    main()"
      ],
      "metadata": {
        "colab": {
          "base_uri": "https://localhost:8080/"
        },
        "id": "-Ol5ChO-kLxK",
        "outputId": "cae59837-df03-4969-9012-6b8deeca5bcd"
      },
      "execution_count": 16,
      "outputs": [
        {
          "output_type": "stream",
          "name": "stderr",
          "text": [
            "INFO:my_application_logger:Application started successfully.\n",
            "INFO:my_application_logger:Processing data from source X.\n",
            "ERROR:my_application_logger:An error occurred during calculation: division by zero\n",
            "Traceback (most recent call last):\n",
            "  File \"/tmp/ipython-input-16-1841952430.py\", line 38, in main\n",
            "    result = 10 / 0  # This will cause a ZeroDivisionError\n",
            "             ~~~^~~\n",
            "ZeroDivisionError: division by zero\n",
            "INFO:my_application_logger:Data processing complete.\n",
            "WARNING:my_application_logger:Potential issue detected in data consistency.\n"
          ]
        }
      ]
    },
    {
      "cell_type": "code",
      "source": [
        "'''15.Write a Python program that prints the content of a file and handles the case when the file is empty'''\n",
        "\n",
        "def print_file_content(file_path):\n",
        "    \"\"\"\n",
        "    Reads and prints the content of a file.\n",
        "    Handles FileNotFoundError and checks if the file is empty.\n",
        "    \"\"\"\n",
        "    try:\n",
        "        with open(file_path, 'r') as file:\n",
        "            content = file.read()\n",
        "            if not content:  # Check if the content is an empty string\n",
        "                print(f\"The file '{file_path}' is empty.\")\n",
        "            else:\n",
        "                print(f\"Content of '{file_path}':\")\n",
        "                print(content)\n",
        "    except FileNotFoundError:\n",
        "        print(f\"Error: The file '{file_path}' was not found.\")\n",
        "    except Exception as e:\n",
        "        print(f\"An unexpected error occurred: {e}\")\n",
        "\n",
        "with open(\"example.txt\", \"w\") as f:\n",
        "    f.write(\"This is some content in the file.\")\n",
        "\n",
        "with open(\"empty_file.txt\", \"w\") as f:\n",
        "    pass # This creates an empty file\n",
        "\n",
        "# Test with a file that has content\n",
        "print_file_content(\"example.txt\")\n",
        "\n",
        "#print(\"\\n\" + \"=\"*30 + \"\\n\") # Separator for clarity\n",
        "\n",
        "# Test with an empty file\n",
        "print_file_content(\"empty_file.txt\")\n",
        "\n",
        "#print(\"\\n\" + \"=\"*30 + \"\\n\") # Separator for clarity\n",
        "\n",
        "# Test with a non-existent file\n",
        "print_file_content(\"non_existent_file.txt\")"
      ],
      "metadata": {
        "colab": {
          "base_uri": "https://localhost:8080/"
        },
        "id": "ox-gxFJekx2x",
        "outputId": "993f81d8-133c-4f0c-d734-0994272ff85d"
      },
      "execution_count": 19,
      "outputs": [
        {
          "output_type": "stream",
          "name": "stdout",
          "text": [
            "Content of 'example.txt':\n",
            "This is some content in the file.\n",
            "The file 'empty_file.txt' is empty.\n",
            "Error: The file 'non_existent_file.txt' was not found.\n"
          ]
        }
      ]
    },
    {
      "cell_type": "code",
      "source": [
        "'''16.Demonstrate how to use memory profiling to check the memory usage of a small program'''\n",
        "!pip install -q memory_profiler\n",
        "\n",
        "%load_ext memory_profiler\n",
        "\n",
        "def my_memory_intensive_function():\n",
        "  \"\"\"A small function that uses some memory.\"\"\"\n",
        "  a = [i for i in range(1000000)]\n",
        "  b = [j * 2 for j in a]\n",
        "  c = \"This is a relatively long string\" * 10000\n",
        "  return a, b, c\n",
        "\n",
        "print(\"Running memory profiling for my_memory_intensive_function:\")\n",
        "%memit my_memory_intensive_function()\n"
      ],
      "metadata": {
        "colab": {
          "base_uri": "https://localhost:8080/"
        },
        "id": "sAgKbcLjlrqL",
        "outputId": "1031c340-c665-406b-a4a2-8db68dd2c0cf"
      },
      "execution_count": 20,
      "outputs": [
        {
          "output_type": "stream",
          "name": "stdout",
          "text": [
            "Running memory profiling for my_memory_intensive_function:\n",
            "peak memory: 195.30 MiB, increment: 68.79 MiB\n"
          ]
        }
      ]
    },
    {
      "cell_type": "code",
      "source": [
        "'''17.Write a Python program to create and write a list of numbers to a file, one number per line'''\n",
        "def write_numbers_to_file(numbers, filename):\n",
        "\n",
        "    try:\n",
        "        with open(filename, 'w') as file:\n",
        "            for number in numbers:\n",
        "                file.write(str(number) + '\\n')\n",
        "        print(f\"Numbers successfully written to '{filename}'.\")\n",
        "    except IOError as e:\n",
        "        print(f\"Error writing to file '{filename}': {e}\")\n",
        "\n",
        "if __name__ == \"__main__\":\n",
        "    # Create a list of numbers\n",
        "    my_numbers = [10, 25, 3.14, 42, 7.89, 100]\n",
        "\n",
        "    # Define the filename\n",
        "    output_filename = \"numbers_list.txt\"\n",
        "\n",
        "    # Call the function to write the numbers to the file\n",
        "    write_numbers_to_file(my_numbers, output_filename)\n",
        "\n",
        "    # Optional: Verify the content of the file\n",
        "    try:\n",
        "        with open(output_filename, 'r') as file:\n",
        "            print(f\"\\nContent of '{output_filename}':\")\n",
        "            print(file.read())\n",
        "    except IOError as e:\n",
        "        print(f\"Error reading file '{output_filename}': {e}\")"
      ],
      "metadata": {
        "colab": {
          "base_uri": "https://localhost:8080/"
        },
        "id": "12qQMe6cn0wS",
        "outputId": "62e1e5c2-ce69-43cd-b82f-bfa4b55ebb53"
      },
      "execution_count": 22,
      "outputs": [
        {
          "output_type": "stream",
          "name": "stdout",
          "text": [
            "Numbers successfully written to 'numbers_list.txt'.\n",
            "\n",
            "Content of 'numbers_list.txt':\n",
            "10\n",
            "25\n",
            "3.14\n",
            "42\n",
            "7.89\n",
            "100\n",
            "\n"
          ]
        }
      ]
    },
    {
      "cell_type": "code",
      "source": [
        "'''18.How would you implement a basic logging setup that logs to a file with rotation after 1MB'''\n",
        "\n",
        "from logging.handlers import RotatingFileHandler\n",
        "import logging\n",
        "\n",
        "# Configure logging\n",
        "log_file = 'my_app.log'\n",
        "max_bytes = 1 * 1024 * 1024  # 1 MB\n",
        "backup_count = 5  # Keep up to 5 old log files\n",
        "\n",
        "# Create a logger instance\n",
        "logger = logging.getLogger(__name__)\n",
        "logger.setLevel(logging.INFO) # Set the logging level\n",
        "\n",
        "# Create a RotatingFileHandler\n",
        "handler = RotatingFileHandler(log_file, maxBytes=max_bytes, backupCount=backup_count)\n",
        "\n",
        "# Create a formatter\n",
        "formatter = logging.Formatter('%(asctime)s - %(name)s - %(levelname)s - %(message)s')\n",
        "\n",
        "# Add the formatter to the handler\n",
        "handler.setFormatter(formatter)\n",
        "\n",
        "# Add the handler to the logger\n",
        "logger.addHandler(handler)\n",
        "\n",
        "# Example usage:\n",
        "logger.info(\"This is an informational message.\")\n",
        "logger.warning(\"This is a warning message.\")\n",
        "logger.error(\"This is an error message.\")\n",
        "\n",
        "# To demonstrate rotation, you would need to write enough logs to exceed 1MB\n",
        "# for i in range(100000):\n",
        "#     logger.info(f\"Logging message number {i} to trigger rotation. \" + \"A\" * 100)\n",
        "\n",
        "print(f\"Logging configured to write to {log_file} with rotation every {max_bytes} bytes.\")"
      ],
      "metadata": {
        "colab": {
          "base_uri": "https://localhost:8080/"
        },
        "id": "eq4NOqWJn_Ml",
        "outputId": "1ee5e603-5447-4a4e-92b1-6f98caf72eee"
      },
      "execution_count": 26,
      "outputs": [
        {
          "output_type": "stream",
          "name": "stderr",
          "text": [
            "INFO:__main__:This is an informational message.\n",
            "WARNING:__main__:This is a warning message.\n",
            "ERROR:__main__:This is an error message.\n"
          ]
        },
        {
          "output_type": "stream",
          "name": "stdout",
          "text": [
            "Logging configured to write to my_app.log with rotation every 1048576 bytes.\n"
          ]
        }
      ]
    },
    {
      "cell_type": "code",
      "source": [
        "'''19.Write a program that handles both IndexError and KeyError using a try-except block'''\n",
        "def handle_list_and_dict_errors():\n",
        "  \"\"\"\n",
        "  Demonstrates handling IndexError and KeyError using a try-except block.\n",
        "  \"\"\"\n",
        "  my_list = [10, 20, 30]\n",
        "  my_dict = {'apple': 1, 'banana': 2}\n",
        "\n",
        "  try:\n",
        "    # Attempt to access an out-of-bounds index in the list\n",
        "    list_item = my_list[5]\n",
        "    print(f\"Accessed list item: {list_item}\")\n",
        "\n",
        "    # Attempt to access a non-existent key in the dictionary\n",
        "    dict_value = my_dict['cherry']\n",
        "    print(f\"Accessed dictionary value: {dict_value}\")\n",
        "\n",
        "  except IndexError:\n",
        "    print(\"Error: Attempted to access an invalid list index.\")\n",
        "  except KeyError:\n",
        "    print(\"Error: Attempted to access a non-existent dictionary key.\")\n",
        "  except Exception as e:\n",
        "    # Catch any other unexpected exceptions\n",
        "    print(f\"An unexpected error occurred: {e}\")\n",
        "  finally:\n",
        "    print(\"Execution of the try-except block is complete.\")\n",
        "\n",
        "# Call the function to demonstrate error handling\n",
        "handle_list_and_dict_errors()"
      ],
      "metadata": {
        "colab": {
          "base_uri": "https://localhost:8080/"
        },
        "id": "2wiPLUqMpMFu",
        "outputId": "fa660318-f027-4e26-f453-bbf9b1c31f82"
      },
      "execution_count": 27,
      "outputs": [
        {
          "output_type": "stream",
          "name": "stdout",
          "text": [
            "Error: Attempted to access an invalid list index.\n",
            "Execution of the try-except block is complete.\n"
          ]
        }
      ]
    },
    {
      "cell_type": "code",
      "source": [
        "'''20.How would you open a file and read its contents using a context manager in Python'''\n",
        "# Create a sample file for demonstration\n",
        "'''with open(\"sample.txt\", \"w\") as f:\n",
        "    f.write(\"This is the first line.\\n\")\n",
        "    f.write(\"This is the second line.\\n\")'''\n",
        "\n",
        "# Open the file in read mode ('r') using a context manager\n",
        "try:\n",
        "    with open(\"sample.txt\", \"r\") as file:\n",
        "        # Read the entire contents of the file\n",
        "        content = file.read()\n",
        "        print(\"File content (entire file):\")\n",
        "        print(content)\n",
        "\n",
        "        # Alternatively, read line by line\n",
        "        file.seek(0)  # Reset file pointer to the beginning for re-reading\n",
        "        print(\"\\nFile content (line by line):\")\n",
        "        for line in file:\n",
        "            print(line.strip())  # .strip() removes leading/trailing whitespace, including newline characters\n",
        "\n",
        "except FileNotFoundError:\n",
        "    print(\"Error: The file 'sample.txt' was not found.\")\n",
        "except Exception as e:\n",
        "    print(f\"An error occurred: {e}\")"
      ],
      "metadata": {
        "colab": {
          "base_uri": "https://localhost:8080/"
        },
        "id": "knbX0oCpp_3r",
        "outputId": "a12ee367-2d41-4679-c41a-8e8bd64ac33c"
      },
      "execution_count": 29,
      "outputs": [
        {
          "output_type": "stream",
          "name": "stdout",
          "text": [
            "File content (entire file):\n",
            "This is the first line.\n",
            "This is the second line.\n",
            "\n",
            "\n",
            "File content (line by line):\n",
            "This is the first line.\n",
            "This is the second line.\n"
          ]
        }
      ]
    },
    {
      "cell_type": "code",
      "source": [
        "'''21.Write a Python program that reads a file and prints the number of occurrences of a specific word'''\n",
        "def count_word_occurrences(file_path, target_word):\n",
        "\n",
        "    count = 0\n",
        "    try:\n",
        "        with open(file_path, 'r', encoding='utf-8') as file:\n",
        "            for line in file:\n",
        "                # Convert the line to lowercase for case-insensitive matching\n",
        "                # and split it into words\n",
        "                words = line.lower().split()\n",
        "                # Iterate through the words and count occurrences\n",
        "                for word in words:\n",
        "                    # You might want to strip punctuation from words\n",
        "                    # if exact word matching without punctuation is desired.\n",
        "                    # Example: word.strip('.,!?\"\\'')\n",
        "                    if word == target_word.lower():\n",
        "                        count += 1\n",
        "    except FileNotFoundError:\n",
        "        print(f\"Error: The file '{file_path}' was not found.\")\n",
        "        return -1  # Indicate an error\n",
        "    except Exception as e:\n",
        "        print(f\"An error occurred: {e}\")\n",
        "        return -1\n",
        "    return count\n",
        "\n",
        "# Example usage:\n",
        "file_name = \"example.txt\"  # Replace with your file name\n",
        "word_to_find = \"python\"    # Replace with the word you want to count\n",
        "\n",
        "# Create a dummy file for demonstration\n",
        "with open(file_name, 'w', encoding='utf-8') as f:\n",
        "    f.write(\"Python is a great programming language.\\n\")\n",
        "    f.write(\"Learn Python for data science and web development.\\n\")\n",
        "    f.write(\"Python is versatile.\")\n",
        "\n",
        "occurrences = count_word_occurrences(file_name, word_to_find)\n",
        "\n",
        "if occurrences != -1:\n",
        "    print(f\"The word '{word_to_find}' appears {occurrences} times in '{file_name}'.\")"
      ],
      "metadata": {
        "colab": {
          "base_uri": "https://localhost:8080/"
        },
        "id": "c_zcGqF8p_pG",
        "outputId": "7f2e4bf4-0e40-41e9-dce2-38dea7ac971c"
      },
      "execution_count": 30,
      "outputs": [
        {
          "output_type": "stream",
          "name": "stdout",
          "text": [
            "The word 'python' appears 3 times in 'example.txt'.\n"
          ]
        }
      ]
    },
    {
      "cell_type": "code",
      "source": [
        "'''22.How can you check if a file is empty before attempting to read its contents'''\n",
        "def is_file_empty(file_path):\n",
        "\n",
        "    # Check if the file exists\n",
        "    if not os.path.exists(file_path):\n",
        "        print(f\"Error: The file '{file_path}' was not found.\")\n",
        "        return False  # Consider non-existent files as not empty for this check\n",
        "\n",
        "    # Check the size of the file\n",
        "    if os.path.getsize(file_path) == 0:\n",
        "        return True\n",
        "    else:\n",
        "        return False\n",
        "\n",
        "# Example usage:\n",
        "file_to_check = \"file.txt\" # Replace with the file you want to check\n",
        "\n",
        "# Ensure the file exists for the check (create if needed for demonstration)\n",
        "# You would typically not do this in a real-world scenario before checking if it exists\n",
        "# with open(file_to_check, 'w') as f:\n",
        "#     pass # Creates an empty file\n",
        "\n",
        "if is_file_empty(file_to_check):\n",
        "    print(f\"The file '{file_to_check}' is empty.\")\n",
        "else:\n",
        "    print(f\"The file '{file_to_check}' is not empty (or does not exist).\")\n",
        "    # Now it's safe to read the file if it's not empty and exists\n",
        "    if os.path.exists(file_to_check):\n",
        "        try:\n",
        "            with open(file_to_check, 'r') as f:\n",
        "                content = f.read()\n",
        "                print(\"Attempting to read file content:\")\n",
        "                print(content)\n",
        "        except Exception as e:\n",
        "            print(f\"An error occurred while reading the file: {e}\")\n"
      ],
      "metadata": {
        "colab": {
          "base_uri": "https://localhost:8080/"
        },
        "id": "XhALmJfvq3T5",
        "outputId": "16415871-6b68-4665-b83a-663e6ff1a956"
      },
      "execution_count": 31,
      "outputs": [
        {
          "output_type": "stream",
          "name": "stdout",
          "text": [
            "The file 'file.txt' is not empty (or does not exist).\n",
            "Attempting to read file content:\n",
            "\n",
            "Hi my name is Abhijeet and I am a Handsome person\n",
            "I like to stay cool\n",
            "What about you\n",
            "this is my first line\n",
            "This line is appended to the file.\n"
          ]
        }
      ]
    },
    {
      "cell_type": "code",
      "source": [
        "'''23.Write a Python program that writes to a log file when an error occurs during file handlig'''\n",
        "import logging # Import the logging module\n",
        "\n",
        "logging.basicConfig(filename='file_error.log', level=logging.ERROR,\n",
        "                    format='%(asctime)s - %(levelname)s - %(message)s')\n",
        "\n",
        "def safe_file_open(filename, mode):\n",
        "  \"\"\"\n",
        "  Attempts to open a file and logs an error if it fails.\n",
        "  \"\"\"\n",
        "  try:\n",
        "    file = open(filename, mode)\n",
        "    return file\n",
        "  except FileNotFoundError:\n",
        "    error_message = f\"Error: File '{filename}' not found.\"\n",
        "    logging.error(error_message)\n",
        "    print(error_message)\n",
        "    return None\n",
        "  except PermissionError:\n",
        "    error_message = f\"Error: Permission denied to access file '{filename}'.\"\n",
        "    logging.error(error_message)\n",
        "    print(error_message)\n",
        "    return None\n",
        "  except IOError as e:\n",
        "    error_message = f\"An IOError occurred while handling file '{filename}': {e}\"\n",
        "    logging.error(error_message)\n",
        "    print(error_message)\n",
        "    return None\n",
        "  except Exception as e:\n",
        "    error_message = f\"An unexpected error occurred while handling file '{filename}': {e}\"\n",
        "    logging.error(error_message)\n",
        "    print(error_message)\n",
        "    return None\n",
        "\n",
        "# Example usage:\n",
        "# Attempt to open a file that might not exist\n",
        "file_handle = safe_file_open(\"non_existent_file.txt\", \"r\")\n",
        "\n",
        "if file_handle:\n",
        "  # If the file was opened successfully, you can work with it here\n",
        "  print(\"File opened successfully (though this won't happen for the non-existent file).\")\n",
        "  file_handle.close() # Remember to close the file if opened\n",
        "\n",
        "# Attempt to open a file with write permissions (assuming this is allowed)\n",
        "file_handle_write = safe_file_open(\"my_output.txt\", \"w\")\n",
        "\n",
        "if file_handle_write:\n",
        "  file_handle_write.write(\"Writing some content.\")\n",
        "  file_handle_write.close()\n",
        "  print(\"Content written to my_output.txt\")"
      ],
      "metadata": {
        "colab": {
          "base_uri": "https://localhost:8080/"
        },
        "id": "QMTWLdQgrYf-",
        "outputId": "6a5c5378-d441-43e4-ad5b-7e44ce3d047e"
      },
      "execution_count": 33,
      "outputs": [
        {
          "output_type": "stream",
          "name": "stderr",
          "text": [
            "ERROR:root:Error: File 'non_existent_file.txt' not found.\n"
          ]
        },
        {
          "output_type": "stream",
          "name": "stdout",
          "text": [
            "Error: File 'non_existent_file.txt' not found.\n",
            "Content written to my_output.txt\n"
          ]
        }
      ]
    },
    {
      "cell_type": "code",
      "source": [],
      "metadata": {
        "id": "0dYCneSSr-Jk"
      },
      "execution_count": null,
      "outputs": []
    }
  ]
}